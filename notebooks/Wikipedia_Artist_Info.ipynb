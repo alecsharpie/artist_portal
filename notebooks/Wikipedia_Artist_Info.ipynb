{
 "cells": [
  {
   "cell_type": "code",
   "execution_count": 117,
   "id": "5a48f5c2",
   "metadata": {},
   "outputs": [
    {
     "name": "stdout",
     "output_type": "stream",
     "text": [
      "The autoreload extension is already loaded. To reload it, use:\n",
      "  %reload_ext autoreload\n"
     ]
    }
   ],
   "source": [
    "%load_ext autoreload\n",
    "%autoreload 2"
   ]
  },
  {
   "cell_type": "code",
   "execution_count": 118,
   "id": "e350e846",
   "metadata": {},
   "outputs": [],
   "source": [
    "import pandas as pd\n",
    "from dotenv import load_dotenv, find_dotenv"
   ]
  },
  {
   "cell_type": "code",
   "execution_count": 119,
   "id": "56c5bade",
   "metadata": {},
   "outputs": [
    {
     "data": {
      "text/plain": [
       "True"
      ]
     },
     "execution_count": 119,
     "metadata": {},
     "output_type": "execute_result"
    }
   ],
   "source": [
    "load_dotenv(find_dotenv()) # find and load your api key as an environment variable"
   ]
  },
  {
   "cell_type": "code",
   "execution_count": 254,
   "id": "28f165db",
   "metadata": {},
   "outputs": [
    {
     "name": "stdout",
     "output_type": "stream",
     "text": [
      "Number of artists: 3430\n"
     ]
    }
   ],
   "source": [
    "from artist_portal.isss_data import get_imgsynth_studies_artists\n",
    "\n",
    "df_artists = get_imgsynth_studies_artists()"
   ]
  },
  {
   "cell_type": "code",
   "execution_count": 255,
   "id": "b2166a02",
   "metadata": {},
   "outputs": [
    {
     "data": {
      "text/html": [
       "<div>\n",
       "<style scoped>\n",
       "    .dataframe tbody tr th:only-of-type {\n",
       "        vertical-align: middle;\n",
       "    }\n",
       "\n",
       "    .dataframe tbody tr th {\n",
       "        vertical-align: top;\n",
       "    }\n",
       "\n",
       "    .dataframe thead th {\n",
       "        text-align: right;\n",
       "    }\n",
       "</style>\n",
       "<table border=\"1\" class=\"dataframe\">\n",
       "  <thead>\n",
       "    <tr style=\"text-align: right;\">\n",
       "      <th></th>\n",
       "      <th>last_name</th>\n",
       "      <th>first_name</th>\n",
       "      <th>recognized_disco</th>\n",
       "      <th>complete_disco</th>\n",
       "      <th>recognized_stable</th>\n",
       "      <th>complete_stable</th>\n",
       "      <th>tags</th>\n",
       "      <th>year_of_death</th>\n",
       "      <th>user</th>\n",
       "      <th>sgl_img_folder</th>\n",
       "      <th>cards_folder</th>\n",
       "      <th>batch_id</th>\n",
       "      <th>notes</th>\n",
       "      <th>key</th>\n",
       "      <th>prompt</th>\n",
       "    </tr>\n",
       "  </thead>\n",
       "  <tbody>\n",
       "    <tr>\n",
       "      <th>0</th>\n",
       "      <td>Aalto</td>\n",
       "      <td>Alvar</td>\n",
       "      <td>Yes</td>\n",
       "      <td>x</td>\n",
       "      <td>Yes</td>\n",
       "      <td>x</td>\n",
       "      <td>architecture, high contrast</td>\n",
       "      <td>1976</td>\n",
       "      <td>sureailabs</td>\n",
       "      <td>x</td>\n",
       "      <td>x</td>\n",
       "      <td>8.0</td>\n",
       "      <td></td>\n",
       "      <td>Alvar_Aalto</td>\n",
       "      <td>Alvar Aalto</td>\n",
       "    </tr>\n",
       "    <tr>\n",
       "      <th>1</th>\n",
       "      <td>Aarons</td>\n",
       "      <td>Slim</td>\n",
       "      <td>Yes</td>\n",
       "      <td>x</td>\n",
       "      <td>Yes</td>\n",
       "      <td>x</td>\n",
       "      <td>vibrant, photography, scene</td>\n",
       "      <td>2006</td>\n",
       "      <td>sureailabs</td>\n",
       "      <td>x</td>\n",
       "      <td>x</td>\n",
       "      <td>8.0</td>\n",
       "      <td></td>\n",
       "      <td>Slim_Aarons</td>\n",
       "      <td>Slim Aarons</td>\n",
       "    </tr>\n",
       "    <tr>\n",
       "      <th>2</th>\n",
       "      <td>Abbey</td>\n",
       "      <td>Edwin Austin</td>\n",
       "      <td>Yes</td>\n",
       "      <td>x</td>\n",
       "      <td>Yes</td>\n",
       "      <td>x</td>\n",
       "      <td>scene, realism</td>\n",
       "      <td>1911</td>\n",
       "      <td>EErratica</td>\n",
       "      <td>x</td>\n",
       "      <td>x</td>\n",
       "      <td>7.0</td>\n",
       "      <td></td>\n",
       "      <td>Edwin_Austin_Abbey</td>\n",
       "      <td>Edwin Austin Abbey</td>\n",
       "    </tr>\n",
       "    <tr>\n",
       "      <th>3</th>\n",
       "      <td>Abercrombie</td>\n",
       "      <td>Gertrude</td>\n",
       "      <td>Yes</td>\n",
       "      <td>x</td>\n",
       "      <td>Yes</td>\n",
       "      <td>x</td>\n",
       "      <td>surrealism, dark,</td>\n",
       "      <td>1977</td>\n",
       "      <td>sureailabs</td>\n",
       "      <td>x</td>\n",
       "      <td>x</td>\n",
       "      <td>10.0</td>\n",
       "      <td></td>\n",
       "      <td>Gertrude_Abercrombie</td>\n",
       "      <td>Gertrude Abercrombie</td>\n",
       "    </tr>\n",
       "    <tr>\n",
       "      <th>4</th>\n",
       "      <td>Abramović</td>\n",
       "      <td>Marina</td>\n",
       "      <td>Yes</td>\n",
       "      <td>x</td>\n",
       "      <td>Yes</td>\n",
       "      <td>x</td>\n",
       "      <td>scene, photography</td>\n",
       "      <td></td>\n",
       "      <td>sureailabs</td>\n",
       "      <td>x</td>\n",
       "      <td>x</td>\n",
       "      <td>8.0</td>\n",
       "      <td></td>\n",
       "      <td>Marina_Abramović</td>\n",
       "      <td>Marina Abramović</td>\n",
       "    </tr>\n",
       "  </tbody>\n",
       "</table>\n",
       "</div>"
      ],
      "text/plain": [
       "     last_name    first_name recognized_disco complete_disco  \\\n",
       "0        Aalto         Alvar              Yes              x   \n",
       "1       Aarons          Slim              Yes              x   \n",
       "2        Abbey  Edwin Austin              Yes              x   \n",
       "3  Abercrombie      Gertrude              Yes              x   \n",
       "4    Abramović        Marina              Yes              x   \n",
       "\n",
       "  recognized_stable complete_stable                         tags  \\\n",
       "0               Yes               x  architecture, high contrast   \n",
       "1               Yes               x  vibrant, photography, scene   \n",
       "2               Yes               x               scene, realism   \n",
       "3               Yes               x            surrealism, dark,   \n",
       "4               Yes               x           scene, photography   \n",
       "\n",
       "  year_of_death        user sgl_img_folder cards_folder batch_id notes  \\\n",
       "0          1976  sureailabs              x            x      8.0         \n",
       "1          2006  sureailabs              x            x      8.0         \n",
       "2          1911   EErratica              x            x      7.0         \n",
       "3          1977  sureailabs              x            x     10.0         \n",
       "4                sureailabs              x            x      8.0         \n",
       "\n",
       "                    key                prompt  \n",
       "0           Alvar_Aalto           Alvar Aalto  \n",
       "1           Slim_Aarons           Slim Aarons  \n",
       "2    Edwin_Austin_Abbey    Edwin Austin Abbey  \n",
       "3  Gertrude_Abercrombie  Gertrude Abercrombie  \n",
       "4      Marina_Abramović      Marina Abramović  "
      ]
     },
     "execution_count": 255,
     "metadata": {},
     "output_type": "execute_result"
    }
   ],
   "source": [
    "df_artists.head()"
   ]
  },
  {
   "cell_type": "code",
   "execution_count": 253,
   "id": "e11698e2",
   "metadata": {},
   "outputs": [
    {
     "data": {
      "text/plain": [
       "{'Name': 'Hilma af Klint',\n",
       " 'Gender': 'She',\n",
       " 'BirthYear': '1862',\n",
       " 'DeathYear': ' 1944',\n",
       " 'ArtStyle': 'Abstract',\n",
       " 'ArtMovement': 'Abstract Art',\n",
       " 'Location': 'Sweden',\n",
       " 'Nationality': 'Sweden',\n",
       " 'Occupation': 'Artist',\n",
       " 'ArtSchool': 'Royal Academy of Fine Arts',\n",
       " 'artist_key': 'Hilma_af_Klint',\n",
       " 'wikipedia_url': 'https://en.wikipedia.org/wiki/Hilma_af_Klint'}"
      ]
     },
     "execution_count": 253,
     "metadata": {},
     "output_type": "execute_result"
    }
   ],
   "source": [
    "from artist_portal.wikipedia_data import WikiGPT\n",
    "\n",
    "wiki_gpt = WikiGPT(openai_api_key = os.getenv(\"OPENAI_API_KEY\"))\n",
    "\n",
    "wiki_gpt.artist_to_json(\"Hilma_af_Klint\")"
   ]
  },
  {
   "cell_type": "code",
   "execution_count": 256,
   "id": "e04b5a19",
   "metadata": {},
   "outputs": [
    {
     "data": {
      "text/plain": [
       "205.79999999999998"
      ]
     },
     "execution_count": 256,
     "metadata": {},
     "output_type": "execute_result"
    }
   ],
   "source": [
    "# current davinci cost\n",
    "len(df_artists) * 0.0600"
   ]
  },
  {
   "cell_type": "code",
   "execution_count": 237,
   "id": "9aebf383",
   "metadata": {},
   "outputs": [
    {
     "data": {
      "text/plain": [
       "42.18899999999999"
      ]
     },
     "execution_count": 237,
     "metadata": {},
     "output_type": "execute_result"
    }
   ],
   "source": [
    "# current curie cost\n",
    "len(df_artists) * (2050 / 1000 * 0.0060)"
   ]
  },
  {
   "cell_type": "code",
   "execution_count": 257,
   "id": "75dae815",
   "metadata": {},
   "outputs": [
    {
     "data": {
      "text/plain": [
       "0             Alvar_Aalto\n",
       "1             Slim_Aarons\n",
       "2      Edwin_Austin_Abbey\n",
       "3    Gertrude_Abercrombie\n",
       "4        Marina_Abramović\n",
       "5              Tomma_Abts\n",
       "6            Vito_Acconci\n",
       "7       Andreas_Achenbach\n",
       "8          Norman_Ackroyd\n",
       "9             Ansel_Adams\n",
       "Name: key, dtype: object"
      ]
     },
     "execution_count": 257,
     "metadata": {},
     "output_type": "execute_result"
    }
   ],
   "source": [
    "df_artists['key'].head(10)"
   ]
  },
  {
   "cell_type": "code",
   "execution_count": null,
   "id": "08587c90",
   "metadata": {},
   "outputs": [],
   "source": [
    "# wait until price goes down 1st Sept"
   ]
  },
  {
   "cell_type": "code",
   "execution_count": null,
   "id": "2908b8ac",
   "metadata": {},
   "outputs": [],
   "source": [
    "# from tqdm import tqdm\n",
    "\n",
    "# results_list = []\n",
    "\n",
    "# for artist_key in df_artists['key'].head(3):\n",
    "    \n",
    "#     wiki_gpt.artist_to_json(artist_key, model = 'curie')\n",
    "    \n",
    "#     results_list.append(results_dict)"
   ]
  },
  {
   "cell_type": "code",
   "execution_count": 75,
   "id": "660855fe",
   "metadata": {
    "scrolled": true
   },
   "outputs": [],
   "source": [
    "results_df = pd.DataFrame(records_list)"
   ]
  },
  {
   "cell_type": "code",
   "execution_count": 79,
   "id": "859fcfc4",
   "metadata": {},
   "outputs": [],
   "source": [
    "#results_df.to_csv('../raw_data/wikipedia_dataset.csv')"
   ]
  }
 ],
 "metadata": {
  "kernelspec": {
   "display_name": "Python 3 (ipykernel)",
   "language": "python",
   "name": "python3"
  },
  "language_info": {
   "codemirror_mode": {
    "name": "ipython",
    "version": 3
   },
   "file_extension": ".py",
   "mimetype": "text/x-python",
   "name": "python",
   "nbconvert_exporter": "python",
   "pygments_lexer": "ipython3",
   "version": "3.8.6"
  }
 },
 "nbformat": 4,
 "nbformat_minor": 5
}
